{
 "cells": [
  {
   "cell_type": "code",
   "execution_count": null,
   "metadata": {
    "tags": []
   },
   "outputs": [],
   "source": [
    "import matplotlib.pyplot as plt\n",
    "import networkx as nx\n",
    "from FileReader import create_graph \n",
    "from AStar import AStar\n",
    "\n",
    "# Create Graph\n",
    "G = nx.Graph()\n",
    "create_graph(G)\n",
    "nodes = nx.get_node_attributes(G, 'pos')\n",
    "colors = list(nx.get_edge_attributes(G,'color').values())\n",
    "n = len(G)\n",
    "nodes_list = list(nodes)\n",
    "\n",
    "# Show map\n",
    "print('Welcome to AStar Path Finder')\n",
    "print('Maps:')\n",
    "nx.draw_networkx(G, pos=nodes, with_labels=True, font_size=7, edge_color=colors)\n",
    "plt.show()\n",
    "\n",
    "# Gettong input\n",
    "print('Select start and goal position [1-%d]:' %n)\n",
    "i = 1\n",
    "for item in G:\n",
    "    print('%d. %s' % (i, item))\n",
    "    i+=1\n",
    "    \n",
    "while True:\n",
    "    try:\n",
    "        a = int(input('choose start: '))\n",
    "        b = int(input('choose goal: '))\n",
    "        if (a < 1 or b < 1 or a > n or b > n):\n",
    "            raise 'invalid input' \n",
    "        break\n",
    "    except:\n",
    "        print('Masukkan input angka yang valid')\n",
    "\n",
    "s = nodes_list[a-1]\n",
    "g = nodes_list[b-1]\n",
    "\n",
    "print('\\nStart from %s to %s' % (s, g))\n",
    "\n",
    "# AStar and create result\n",
    "result = AStar(G, s, g)\n",
    "result_path = result[0][0].split('-')\n",
    "attrs = {}\n",
    "for i in range(len(result_path)-1):\n",
    "    attrs[(result_path[i],result_path[i+1])] = {'color':'r'}\n",
    "nx.set_edge_attributes(G, attrs)\n",
    "colors = list(nx.get_edge_attributes(G,'color').values())\n",
    "\n",
    "# Show result in map\n",
    "nx.draw_networkx(G, pos=nodes, with_labels=True, font_size=7, edge_color=colors)\n",
    "plt.show()\n",
    "print('Path     :', result[0][0])\n",
    "print('Distance : %.2f m' % (result[0][1]))\n",
    "\n"
   ]
  },
  {
   "cell_type": "code",
   "execution_count": null,
   "metadata": {},
   "outputs": [],
   "source": []
  }
 ],
 "metadata": {
  "kernelspec": {
   "display_name": "Python 3",
   "language": "python",
   "name": "python3"
  },
  "language_info": {
   "codemirror_mode": {
    "name": "ipython",
    "version": 3
   },
   "file_extension": ".py",
   "mimetype": "text/x-python",
   "name": "python",
   "nbconvert_exporter": "python",
   "pygments_lexer": "ipython3",
   "version": "3.8.4"
  }
 },
 "nbformat": 4,
 "nbformat_minor": 2
}
